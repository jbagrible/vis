{
 "cells": [
  {
   "cell_type": "code",
   "execution_count": 1,
   "metadata": {},
   "outputs": [
    {
     "data": {
      "text/html": [
       "<style>.container { width:99% !important; }</style>"
      ],
      "text/plain": [
       "<IPython.core.display.HTML object>"
      ]
     },
     "metadata": {},
     "output_type": "display_data"
    },
    {
     "data": {
      "text/html": [
       "        <script type=\"text/javascript\">\n",
       "        window.PlotlyConfig = {MathJaxConfig: 'local'};\n",
       "        if (window.MathJax) {MathJax.Hub.Config({SVG: {font: \"STIX-Web\"}});}\n",
       "        if (typeof require !== 'undefined') {\n",
       "        require.undef(\"plotly\");\n",
       "        requirejs.config({\n",
       "            paths: {\n",
       "                'plotly': ['https://cdn.plot.ly/plotly-latest.min']\n",
       "            }\n",
       "        });\n",
       "        require(['plotly'], function(Plotly) {\n",
       "            window._Plotly = Plotly;\n",
       "        });\n",
       "        }\n",
       "        </script>\n",
       "        "
      ]
     },
     "metadata": {},
     "output_type": "display_data"
    }
   ],
   "source": [
    "from vis.data.utils import DATADIR as datadir\n",
    "from vis.code.analysis.utils import load_files_and_tags\n",
    "\n",
    "from IPython.core.display import display, HTML\n",
    "display(HTML(\"<style>.container { width:99% !important; }</style>\"))\n",
    "import pandas as pd\n",
    "import numpy as np\n",
    "import pickle\n",
    "\n",
    "from plotly.offline import plot, iplot, init_notebook_mode\n",
    "from plotly.subplots import make_subplots\n",
    "\n",
    "import matplotlib.pyplot as plt\n",
    "from matplotlib import cm\n",
    "import mpl_toolkits\n",
    "import matplotlib as mpl\n",
    "from matplotlib import cm\n",
    "import mpl_toolkits.mplot3d.art3d as art3d\n",
    "from mpl_toolkits.mplot3d import Axes3D\n",
    "from matplotlib.patches import Circle, PathPatch\n",
    "from matplotlib.text import TextPath\n",
    "from matplotlib.transforms import Affine2D\n",
    "\n",
    "import seaborn as sns\n",
    "%matplotlib inline\n",
    "\n",
    "init_notebook_mode(connected=True)\n",
    "import plotly.graph_objects as go\n",
    "from mpl_toolkits.mplot3d import proj3d\n",
    "from matplotlib.patches import Circle\n",
    "from itertools import product\n",
    "\n",
    "import plotly.io as pio\n",
    "# comment this out for html\n",
    "pio.renderers.default = \"png\""
   ]
  },
  {
   "cell_type": "code",
   "execution_count": 2,
   "metadata": {},
   "outputs": [],
   "source": [
    "current_data_dir = '1585510246'\n",
    "datapath = datadir.joinpath('analysis').joinpath('kmeans').joinpath(current_data_dir)\n",
    "n_clusters = [3, 8, 16, 32, 64, 128, 256, 512, 1024]\n",
    "\n",
    "pop_file = \"16m_rgb.pkl\"\n",
    "sample_file = 'frac_0_008_16m_rgb.pkl'\n",
    "file_format = 'n_cluster_{}_kmeans.pkl'"
   ]
  },
  {
   "cell_type": "code",
   "execution_count": 3,
   "metadata": {},
   "outputs": [],
   "source": [
    "_, _kmeans = load_files_and_tags(tags=n_clusters, file_format=file_format, datapath=datapath)\n",
    "sample = pd.read_pickle(datapath.joinpath(sample_file))\n",
    "df = pd.read_pickle(datapath.parent.parent.parent.joinpath(pop_file))"
   ]
  },
  {
   "cell_type": "code",
   "execution_count": 4,
   "metadata": {},
   "outputs": [],
   "source": [
    "kmeans = _kmeans[-1]\n",
    "sample['cluster'] = kmeans.predict(sample)"
   ]
  },
  {
   "cell_type": "code",
   "execution_count": 5,
   "metadata": {},
   "outputs": [
    {
     "data": {
      "image/png": "[encoded data removed]",
      "text/plain": [
       "<Figure size 1440x360 with 2 Axes>"
      ]
     },
     "metadata": {
      "needs_background": "light"
     },
     "output_type": "display_data"
    }
   ],
   "source": [
    "m = plt.get_cmap('magma')\n",
    "colors = m(np.linspace(0, 1, 256))\n",
    "fig, axes = plt.subplots(1,2, figsize=(20,5))\n",
    "ax = axes[0]\n",
    "ax.bar(x=list(range(m.N)), height=[1] * m.N, color=colors, linewidth=0, align='center', width=1)\n",
    "ax.xaxis.set_visible(False)\n",
    "ax.yaxis.set_visible(False)\n",
    "ax.set_title('Magma',{'fontname':'Arial', 'fontsize': 18})\n",
    "\n",
    "ax = axes[-1]\n",
    "_clusters = kmeans.predict(pd.DataFrame(m(np.linspace(0, 1, 256)))[[0,1,2]])\n",
    "colors = []\n",
    "for c in _clusters:\n",
    "    s = sample[sample.cluster == c][['red', 'green', 'blue']]\n",
    "    colors.append([s.red.mean(), s.green.mean(), s.blue.mean()])\n",
    "n = list(range(len(_clusters)))\n",
    "ax.bar(x=n, height=[1], color=colors, linewidth=0, align='center', width=1)\n",
    "ax.xaxis.set_visible(False)\n",
    "ax.yaxis.set_visible(False)\n",
    "ax = ax.set_title('Cluster Transitions: Magma',{'fontname':'Arial', 'fontsize': 18})"
   ]
  },
  {
   "cell_type": "code",
   "execution_count": 6,
   "metadata": {},
   "outputs": [
    {
     "data": {
      "image/png": "[encoded data removed]",
      "text/plain": [
       "<Figure size 1440x360 with 2 Axes>"
      ]
     },
     "metadata": {
      "needs_background": "light"
     },
     "output_type": "display_data"
    }
   ],
   "source": [
    "m = plt.get_cmap('bwr')\n",
    "colors = m(np.linspace(0, 1, 256))\n",
    "fig, axes = plt.subplots(1,2, figsize=(20,5))\n",
    "ax = axes[0]\n",
    "ax.bar(x=list(range(m.N)), height=[1] * m.N, color=colors, linewidth=0, align='center', width=1)\n",
    "ax.xaxis.set_visible(False)\n",
    "ax.yaxis.set_visible(False)\n",
    "ax.set_title('bwr',{'fontname':'Arial', 'fontsize': 18})\n",
    "\n",
    "ax = axes[-1]\n",
    "_clusters = kmeans.predict(pd.DataFrame(m(np.linspace(0, 1, 256)))[[0,1,2]])\n",
    "colors = []\n",
    "for c in _clusters:\n",
    "    s = sample[sample.cluster == c][['red', 'green', 'blue']]\n",
    "    colors.append([s.red.mean(), s.green.mean(), s.blue.mean()])\n",
    "n = list(range(len(_clusters)))\n",
    "ax.bar(x=n, height=[1], color=colors, linewidth=0, align='center', width=1)\n",
    "ax.xaxis.set_visible(False)\n",
    "ax.yaxis.set_visible(False)\n",
    "ax = ax.set_title('Cluster Transitions: bwr',{'fontname':'Arial', 'fontsize': 18})"
   ]
  },
  {
   "cell_type": "code",
   "execution_count": 7,
   "metadata": {},
   "outputs": [
    {
     "data": {
      "image/png": "[encoded data removed]",
      "text/plain": [
       "<Figure size 1440x360 with 2 Axes>"
      ]
     },
     "metadata": {
      "needs_background": "light"
     },
     "output_type": "display_data"
    }
   ],
   "source": [
    "m = plt.get_cmap('Wistia')\n",
    "colors = m(np.linspace(0, 1, 256))\n",
    "fig, axes = plt.subplots(1,2, figsize=(20,5))\n",
    "ax = axes[0]\n",
    "ax.bar(x=list(range(m.N)), height=[1] * m.N, color=colors, linewidth=0, align='center', width=1)\n",
    "ax.xaxis.set_visible(False)\n",
    "ax.yaxis.set_visible(False)\n",
    "ax.set_title('Wistia',{'fontname':'Arial', 'fontsize': 18})\n",
    "\n",
    "ax = axes[-1]\n",
    "_clusters = kmeans.predict(pd.DataFrame(m(np.linspace(0, 1, 256)))[[0,1,2]])\n",
    "colors = []\n",
    "for c in _clusters:\n",
    "    s = sample[sample.cluster == c][['red', 'green', 'blue']]\n",
    "    colors.append([s.red.mean(), s.green.mean(), s.blue.mean()])\n",
    "n = list(range(len(_clusters)))\n",
    "ax.bar(x=n, height=[1], color=colors, linewidth=0, align='center', width=1)\n",
    "ax.xaxis.set_visible(False)\n",
    "ax.yaxis.set_visible(False)\n",
    "ax = ax.set_title('Cluster Transitions: Wistia',{'fontname':'Arial', 'fontsize': 18})"
   ]
  },
  {
   "cell_type": "code",
   "execution_count": null,
   "metadata": {},
   "outputs": [],
   "source": []
  }
 ],
 "metadata": {
  "kernelspec": {
   "display_name": "vis",
   "language": "python",
   "name": "vis"
  },
  "language_info": {
   "codemirror_mode": {
    "name": "ipython",
    "version": 3
   },
   "file_extension": ".py",
   "mimetype": "text/x-python",
   "name": "python",
   "nbconvert_exporter": "python",
   "pygments_lexer": "ipython3",
   "version": "3.7.7"
  }
 },
 "nbformat": 4,
 "nbformat_minor": 4
}
